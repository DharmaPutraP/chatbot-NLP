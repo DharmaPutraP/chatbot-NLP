{
 "cells": [
  {
   "cell_type": "markdown",
   "id": "c07c9fc8",
   "metadata": {},
   "source": [
    "# EDA & Preprocessing Dataset Chatbot Administrasi Kependudukan\n",
    "\n",
    "Notebook ini berisi analisis data eksploratif dan preprocessing untuk chatbot seq2seq pelayanan publik administrasi kependudukan."
   ]
  },
  {
   "cell_type": "code",
   "execution_count": null,
   "id": "51c9989d",
   "metadata": {},
   "outputs": [
    {
     "data": {
      "text/html": [
       "<div>\n",
       "<style scoped>\n",
       "    .dataframe tbody tr th:only-of-type {\n",
       "        vertical-align: middle;\n",
       "    }\n",
       "\n",
       "    .dataframe tbody tr th {\n",
       "        vertical-align: top;\n",
       "    }\n",
       "\n",
       "    .dataframe thead th {\n",
       "        text-align: right;\n",
       "    }\n",
       "</style>\n",
       "<table border=\"1\" class=\"dataframe\">\n",
       "  <thead>\n",
       "    <tr style=\"text-align: right;\">\n",
       "      <th></th>\n",
       "      <th>pertanyaan</th>\n",
       "      <th>jawaban</th>\n",
       "      <th>referensi</th>\n",
       "    </tr>\n",
       "  </thead>\n",
       "  <tbody>\n",
       "    <tr>\n",
       "      <th>0</th>\n",
       "      <td>hi</td>\n",
       "      <td>halo, ada yang bisa dibantu?</td>\n",
       "      <td>NaN</td>\n",
       "    </tr>\n",
       "    <tr>\n",
       "      <th>1</th>\n",
       "      <td>halo</td>\n",
       "      <td>halo, ada yang bisa dibantu?</td>\n",
       "      <td>NaN</td>\n",
       "    </tr>\n",
       "    <tr>\n",
       "      <th>2</th>\n",
       "      <td>hai</td>\n",
       "      <td>halo, ada yang bisa dibantu?</td>\n",
       "      <td>NaN</td>\n",
       "    </tr>\n",
       "    <tr>\n",
       "      <th>3</th>\n",
       "      <td>Bagaimana cara pengajuan KK baru bagi yang bar...</td>\n",
       "      <td>Permohonan dapat diajukan online melalui sipen...</td>\n",
       "      <td>https://disdukcapil.pekanbaru.go.id/page/203-faq</td>\n",
       "    </tr>\n",
       "    <tr>\n",
       "      <th>4</th>\n",
       "      <td>Bagaimana cara pengajuan cetak KTP hilang?</td>\n",
       "      <td>Ajukan secara online via aplikasi Layanan Tung...</td>\n",
       "      <td>https://disdukcapil.pekanbaru.go.id/page/203-faq</td>\n",
       "    </tr>\n",
       "  </tbody>\n",
       "</table>\n",
       "</div>"
      ],
      "text/plain": [
       "                                          pertanyaan  \\\n",
       "0                                                 hi   \n",
       "1                                               halo   \n",
       "2                                                hai   \n",
       "3  Bagaimana cara pengajuan KK baru bagi yang bar...   \n",
       "4         Bagaimana cara pengajuan cetak KTP hilang?   \n",
       "\n",
       "                                             jawaban  \\\n",
       "0                       halo, ada yang bisa dibantu?   \n",
       "1                       halo, ada yang bisa dibantu?   \n",
       "2                       halo, ada yang bisa dibantu?   \n",
       "3  Permohonan dapat diajukan online melalui sipen...   \n",
       "4  Ajukan secara online via aplikasi Layanan Tung...   \n",
       "\n",
       "                                          referensi  \n",
       "0                                               NaN  \n",
       "1                                               NaN  \n",
       "2                                               NaN  \n",
       "3  https://disdukcapil.pekanbaru.go.id/page/203-faq  \n",
       "4  https://disdukcapil.pekanbaru.go.id/page/203-faq  "
      ]
     },
     "execution_count": 1,
     "metadata": {},
     "output_type": "execute_result"
    }
   ],
   "source": [
    "import pandas as pd\n",
    "import numpy as np\n",
    "import matplotlib.pyplot as plt\n",
    "import seaborn as sns\n",
    "import re\n",
    "from collections import Counter\n",
    "import unicodedata\n",
    "from nltk.corpus import stopwords\n",
    "import string\n",
    "import nltk\n",
    "\n",
    "nltk.download('stopwords')\n",
    "\n",
    "# Baca data\n",
    "df = pd.read_csv('../dataset.csv')\n",
    "df.head()"
   ]
  },
  {
   "cell_type": "markdown",
   "id": "d4248a9b",
   "metadata": {},
   "source": [
    "## 1. Info Data dan Cek Missing Value"
   ]
  },
  {
   "cell_type": "code",
   "execution_count": 2,
   "id": "b0a1fb54",
   "metadata": {},
   "outputs": [
    {
     "name": "stdout",
     "output_type": "stream",
     "text": [
      "<class 'pandas.core.frame.DataFrame'>\n",
      "RangeIndex: 236 entries, 0 to 235\n",
      "Data columns (total 3 columns):\n",
      " #   Column      Non-Null Count  Dtype \n",
      "---  ------      --------------  ----- \n",
      " 0   pertanyaan  236 non-null    object\n",
      " 1   jawaban     236 non-null    object\n",
      " 2   referensi   232 non-null    object\n",
      "dtypes: object(3)\n",
      "memory usage: 5.7+ KB\n",
      "---\n",
      "Missing values:\n",
      "pertanyaan    0\n",
      "jawaban       0\n",
      "referensi     4\n",
      "dtype: int64\n"
     ]
    }
   ],
   "source": [
    "df.info()\n",
    "print('---')\n",
    "print('Missing values:')\n",
    "print(df.isnull().sum())"
   ]
  },
  {
   "cell_type": "markdown",
   "id": "841b8422",
   "metadata": {},
   "source": [
    "## 2. Cek Duplikasi"
   ]
  },
  {
   "cell_type": "code",
   "execution_count": 3,
   "id": "7b4c1975",
   "metadata": {},
   "outputs": [
    {
     "name": "stdout",
     "output_type": "stream",
     "text": [
      "Jumlah data sebelum drop duplikasi: 236\n",
      "Jumlah data setelah drop duplikasi: 226\n"
     ]
    }
   ],
   "source": [
    "print('Jumlah data sebelum drop duplikasi:', len(df))\n",
    "df = df.drop_duplicates(subset=['pertanyaan', 'jawaban'])\n",
    "print('Jumlah data setelah drop duplikasi:', len(df))"
   ]
  },
  {
   "cell_type": "markdown",
   "id": "3ce8dd5b",
   "metadata": {},
   "source": [
    "## 3. Distribusi Panjang Teks Pertanyaan & Jawaban"
   ]
  },
  {
   "cell_type": "code",
   "execution_count": 4,
   "id": "3d882b8d",
   "metadata": {},
   "outputs": [
    {
     "data": {
      "image/png": "[encoded data removed]",
      "text/plain": [
       "<Figure size 1200x500 with 1 Axes>"
      ]
     },
     "metadata": {},
     "output_type": "display_data"
    }
   ],
   "source": [
    "df['len_pertanyaan'] = df['pertanyaan'].astype(str).apply(lambda x: len(x.split()))\n",
    "df['len_jawaban'] = df['jawaban'].astype(str).apply(lambda x: len(x.split()))\n",
    "plt.figure(figsize=(12,5))\n",
    "sns.histplot(df['len_pertanyaan'], bins=20, kde=True, color='blue', label='Pertanyaan')\n",
    "sns.histplot(df['len_jawaban'], bins=20, kde=True, color='orange', label='Jawaban')\n",
    "plt.legend()\n",
    "plt.title('Distribusi Panjang Teks (dalam kata)')\n",
    "plt.xlabel('Jumlah Kata')\n",
    "plt.show()"
   ]
  },
  {
   "cell_type": "markdown",
   "id": "2024bdce",
   "metadata": {},
   "source": [
    "## 4. Preprocessing Teks\n",
    "\n",
    "# Preprocessing profesional: lowercase, hapus tanda baca, hapus spasi berlebih, normalisasi unicode, dan hapus stopwords\n",
    "\n",
    "\n",
    "\n",
    "# Fungsi preprocessing\n",
    "\n",
    "\n",
    "# Terapkan ke kolom pertanyaan dan jawaban\n"
   ]
  },
  {
   "cell_type": "code",
   "execution_count": null,
   "id": "e66cd2e5",
   "metadata": {},
   "outputs": [],
   "source": [
    "stop_words = set(stopwords.words('indonesian'))\n",
    "\n",
    "def clean_text_pro(text):\n",
    "    # Lowercase\n",
    "    text = str(text).lower()\n",
    "    # Normalisasi unicode\n",
    "    text = unicodedata.normalize('NFKC', text)\n",
    "    # Hapus tanda baca\n",
    "    text = text.translate(str.maketrans('', '', string.punctuation))\n",
    "    # Hapus angka\n",
    "    text = re.sub(r'\\d+', '', text)\n",
    "    # Hapus spasi berlebih\n",
    "    text = re.sub(r'\\s+', ' ', text)\n",
    "    # Hapus stopwords\n",
    "    tokens = text.strip().split()\n",
    "    tokens = [t for t in tokens if t not in stop_words]\n",
    "    return ' '.join(tokens)\n",
    "\n",
    "df['pertanyaan_clean'] = df['pertanyaan'].apply(clean_text_pro)\n",
    "df['jawaban_clean'] = df['jawaban'].apply(clean_text_pro)\n",
    "df[['pertanyaan', 'pertanyaan_clean', 'jawaban', 'jawaban_clean']].head()"
   ]
  }
 ],
 "metadata": {
  "kernelspec": {
   "display_name": "base",
   "language": "python",
   "name": "python3"
  },
  "language_info": {
   "codemirror_mode": {
    "name": "ipython",
    "version": 3
   },
   "file_extension": ".py",
   "mimetype": "text/x-python",
   "name": "python",
   "nbconvert_exporter": "python",
   "pygments_lexer": "ipython3",
   "version": "3.12.7"
  }
 },
 "nbformat": 4,
 "nbformat_minor": 5
}
